{
 "cells": [
  {
   "cell_type": "code",
   "execution_count": 10,
   "metadata": {},
   "outputs": [],
   "source": [
    "import pandas as pd\n",
    "import folium\n",
    "from folium.plugins import HeatMap"
   ]
  },
  {
   "cell_type": "code",
   "execution_count": 13,
   "metadata": {},
   "outputs": [],
   "source": [
    "df = pd.read_csv('../data/raw/sales_enriched2.csv')\n",
    "\n",
    "# Drop rows with missing latitude or longitude\n",
    "df = df.dropna(subset=['latitude', 'longitude'])\n"
   ]
  },
  {
   "cell_type": "code",
   "execution_count": 15,
   "metadata": {},
   "outputs": [],
   "source": [
    "# Load your DataFrame\n",
    "# df = pd.read_csv('your_data.csv')\n",
    "\n",
    "# Drop rows with missing latitude, longitude, or price values\n",
    "df = df.dropna(subset=['latitude', 'longitude', 'price'])\n",
    "\n",
    "# Create a map centered at a specific location (you can adjust these values)\n",
    "center_lat, center_lon = df['latitude'].mean(), df['longitude'].mean()\n",
    "heat_map = folium.Map(location=[center_lat, center_lon], zoom_start=10)\n",
    "\n",
    "# Create a list of points (latitude, longitude, price) for HeatMap\n",
    "heat_data = [[row['latitude'], row['longitude'], row['price']] for index, row in df.iterrows()]\n",
    "\n",
    "# Add HeatMap layer to the map\n",
    "HeatMap(heat_data).add_to(heat_map)\n",
    "\n",
    "# Save the map as an HTML file\n",
    "heat_map.save('heatmap.html')\n"
   ]
  },
  {
   "cell_type": "code",
   "execution_count": null,
   "metadata": {},
   "outputs": [],
   "source": []
  },
  {
   "cell_type": "code",
   "execution_count": null,
   "metadata": {},
   "outputs": [],
   "source": []
  },
  {
   "cell_type": "code",
   "execution_count": null,
   "metadata": {},
   "outputs": [],
   "source": []
  },
  {
   "cell_type": "code",
   "execution_count": null,
   "metadata": {},
   "outputs": [],
   "source": []
  }
 ],
 "metadata": {
  "kernelspec": {
   "display_name": "sugar_fallin_report_streamlit",
   "language": "python",
   "name": "python3"
  },
  "language_info": {
   "codemirror_mode": {
    "name": "ipython",
    "version": 3
   },
   "file_extension": ".py",
   "mimetype": "text/x-python",
   "name": "python",
   "nbconvert_exporter": "python",
   "pygments_lexer": "ipython3",
   "version": "3.9.17"
  },
  "orig_nbformat": 4
 },
 "nbformat": 4,
 "nbformat_minor": 2
}
